{
 "cells": [
  {
   "cell_type": "code",
   "execution_count": 1,
   "metadata": {},
   "outputs": [],
   "source": [
    "#from mpl_toolkits import mplot3d\n",
    "import pandas as pd\n",
    "from numpy import array\n",
    "import numpy as np\n",
    "import h5py\n",
    "import mplcursors\n",
    "import matplotlib.pyplot as plt\n",
    "import matplotlib as mpl\n",
    "from scipy.stats import pearsonr\n",
    "%matplotlib inline\n",
    "plt.rcParams.update({\n",
    "    \"pgf.texsystem\": \"pdflatex\",\n",
    "    \"pgf.rcfonts\": False,\n",
    "\n",
    "    \"text.usetex\": True,\n",
    "    \"font.family\": \"serif\",\n",
    "    \"font.sans-serif\": \"computer-modern-roman\",\n",
    "\n",
    "    \"figure.dpi\": 300,\n",
    "    \"savefig.dpi\": 300,\n",
    "})\n",
    "\n",
    "\n",
    "CMAPS = plt.colormaps\n",
    "CMAP = CMAPS['hsv']\n",
    "\n",
    "h = 0.6774  # co-moving constant\n"
   ]
  },
  {
   "cell_type": "code",
   "execution_count": 3,
   "metadata": {},
   "outputs": [],
   "source": [
    "g_dat = pd.read_pickle('../beta_data.pickle')"
   ]
  },
  {
   "cell_type": "code",
   "execution_count": 5,
   "metadata": {},
   "outputs": [],
   "source": [
    "h5dat = h5py.File('../main_branch_orbit_data_snapshot_1200.hdf5')\n",
    "\n",
    "flydat = pd.DataFrame((list(x) for x in h5dat.values() if x.shape != ()), index=(\n",
    "    k for k in h5dat.keys() if h5dat[k].shape != ())).transpose().convert_dtypes()\n"
   ]
  },
  {
   "cell_type": "code",
   "execution_count": 6,
   "metadata": {},
   "outputs": [],
   "source": [
    "dat = g_dat.merge(flydat, left_index=True, right_index=True)\n",
    "\n",
    "\n",
    "\n",
    "# remove bad data\n",
    "dat = dat[dat['d_innermost'] < 20000].copy()\n",
    "\n",
    "# M_tot calculation\n",
    "dat['M_tot'] = (\n",
    "    dat['stars_mass_within_r50_stars'] + \n",
    "    dat['gas_mass_within_r50_stars'] + \n",
    "    dat['dm_mass_within_r50_stars']\n",
    ")\n",
    "\n",
    "s_filt = dat['is_satellite']"
   ]
  },
  {
   "attachments": {},
   "cell_type": "markdown",
   "metadata": {},
   "source": [
    "# The strange galaxies\n",
    "The following galaxies seem to be satellites that have not yet reached their minimum orbit distance"
   ]
  },
  {
   "attachments": {},
   "cell_type": "markdown",
   "metadata": {},
   "source": []
  },
  {
   "cell_type": "code",
   "execution_count": 8,
   "metadata": {},
   "outputs": [],
   "source": [
    "is_weird_galaxy = dat['is_satellite'] & (dat['d_innermost'] == 0)"
   ]
  },
  {
   "cell_type": "code",
   "execution_count": 23,
   "metadata": {},
   "outputs": [
    {
     "name": "stdout",
     "output_type": "stream",
     "text": [
      "92.0, 162.0, 178.0, 348.0, 359.0, 414.0, 495.0, 565.0, 615.0, 682.0, 748.0, 870.0, 904.0, 941.0, 1162.0, 1269.0, 1273.0, 1345.0, 1348.0, 1492.0, 1906.0, 2239.0, 2327.0, 2361.0, 2629.0, 2739.0, 2768.0, 3243.0, 3452.0, 3454.0, 3468.0, 3772.0, 3919.0, 3928.0, 4036.0, 4126.0, 4513.0, 4549.0, 4734.0, 4739.0, 4787.0, 4899.0, 5478.0, 5665.0, 5818.0, 5912.0, 6278.0, 6466.0, 6495.0, 6635.0, 6815.0, 7254.0, 7689.0, 8353.0, 8544.0, 8546.0, 8705.0, 9224.0, 9973.0, 10640.0, 11010.0, 12208.0, 12682.0, 12738.0, 13299.0, 13514.0, 13781.0, 14240.0, 14442.0, 15840.0, 17588.0, 17795.0, 18379.0, 19129.0, 20747.0, 22246.0, 23231.0, 25513.0, 28823.0, 29309.0, 30409.0, 31281.0, 49407.0\n"
     ]
    }
   ],
   "source": [
    "print(*(dat.loc[is_weird_galaxy, 'galaxyID']), sep=', ') # galaxy ids"
   ]
  },
  {
   "cell_type": "code",
   "execution_count": 13,
   "metadata": {},
   "outputs": [
    {
     "data": {
      "text/plain": [
       "83"
      ]
     },
     "execution_count": 13,
     "metadata": {},
     "output_type": "execute_result"
    }
   ],
   "source": [
    "sum(is_weird_galaxy) # how many are there?"
   ]
  },
  {
   "cell_type": "code",
   "execution_count": 14,
   "metadata": {},
   "outputs": [
    {
     "data": {
      "text/plain": [
       "0.18526785714285715"
      ]
     },
     "execution_count": 14,
     "metadata": {},
     "output_type": "execute_result"
    }
   ],
   "source": [
    "sum(is_weird_galaxy) / sum(dat['is_satellite']) # fraction of satellites with this property"
   ]
  },
  {
   "cell_type": "code",
   "execution_count": 22,
   "metadata": {},
   "outputs": [
    {
     "data": {
      "text/plain": [
       "0.1872992914077583"
      ]
     },
     "execution_count": 22,
     "metadata": {},
     "output_type": "execute_result"
    }
   ],
   "source": [
    "dat[dat['is_satellite'] & (dat['d_innermost'] != 0)]['M_\\\\star/M_tot'].mean() # mean stellar mass to dm mass (within r_50), for satellites without this property"
   ]
  },
  {
   "cell_type": "code",
   "execution_count": 18,
   "metadata": {},
   "outputs": [
    {
     "data": {
      "text/plain": [
       "0.12404652083412257"
      ]
     },
     "execution_count": 18,
     "metadata": {},
     "output_type": "execute_result"
    }
   ],
   "source": [
    "dat[is_weird_galaxy]['M_\\\\star/M_tot'].mean() # same calculation, for galaxies with this property"
   ]
  }
 ],
 "metadata": {
  "kernelspec": {
   "display_name": "thesis",
   "language": "python",
   "name": "python3"
  },
  "language_info": {
   "codemirror_mode": {
    "name": "ipython",
    "version": 3
   },
   "file_extension": ".py",
   "mimetype": "text/x-python",
   "name": "python",
   "nbconvert_exporter": "python",
   "pygments_lexer": "ipython3",
   "version": "3.10.6"
  },
  "orig_nbformat": 4
 },
 "nbformat": 4,
 "nbformat_minor": 2
}
